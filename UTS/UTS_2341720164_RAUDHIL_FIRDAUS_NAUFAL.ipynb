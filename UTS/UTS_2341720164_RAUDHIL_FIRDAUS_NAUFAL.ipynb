{
  "nbformat": 4,
  "nbformat_minor": 0,
  "metadata": {
    "colab": {
      "provenance": [],
      "authorship_tag": "ABX9TyOam/ZLqODilXUhTEY15q6j",
      "include_colab_link": true
    },
    "kernelspec": {
      "name": "python3",
      "display_name": "Python 3"
    },
    "language_info": {
      "name": "python"
    }
  },
  "cells": [
    {
      "cell_type": "markdown",
      "metadata": {
        "id": "view-in-github",
        "colab_type": "text"
      },
      "source": [
        "<a href=\"https://colab.research.google.com/github/Raudhil/Machine-Learning-2025/blob/main/UTS_2341720164_RAUDHIL_FIRDAUS_NAUFAL.ipynb\" target=\"_parent\"><img src=\"https://colab.research.google.com/assets/colab-badge.svg\" alt=\"Open In Colab\"/></a>"
      ]
    },
    {
      "cell_type": "markdown",
      "source": [
        "# **TUGAS STUDI KASUS PEMBELAJARAN MESIN Clustering dan Approximate Nearest Neighbor (ANN)**"
      ],
      "metadata": {
        "id": "tEn9q16-0oG9"
      }
    },
    {
      "cell_type": "markdown",
      "source": [
        "**Deskripsi Umum:**"
      ],
      "metadata": {
        "id": "ui3Mj9Ce3HVG"
      }
    },
    {
      "cell_type": "markdown",
      "source": [
        "Tugas kali ini adalah mengerjakan studi kasus analisis data dan clustering menggunakan\n",
        "unsupervised learning dengan langkah-langkah sebagai berikut:"
      ],
      "metadata": {
        "id": "CTKu0Wm13KgO"
      }
    },
    {
      "cell_type": "markdown",
      "source": [
        "1. Preprocessing data"
      ],
      "metadata": {
        "id": "hx0et_TK3LvS"
      }
    },
    {
      "cell_type": "markdown",
      "source": [
        "- Tangani missing values (imputasi mean/median/modus sesuai jenis data)\n",
        "- Normalisasi atau standarisasi data\n",
        "- Buat minimal satu fitur baru hasil kombinasi fitur lama\n"
      ],
      "metadata": {
        "id": "dRBlg4q23OI8"
      }
    },
    {
      "cell_type": "markdown",
      "source": [
        "2. Clustering\n",
        "- Terapkan K-Means dan DBSCAN\n",
        "- Bandingkan hasil clustering menggunakan:\n",
        "  - Silhouette Score\n",
        "  - Davies–Bouldin Index"
      ],
      "metadata": {
        "id": "v6kTQJoU3R47"
      }
    },
    {
      "cell_type": "markdown",
      "source": [
        "3. Approximate Nearest Neighbor (ANN)\n",
        "- Gunakan Annoy untuk mencari tetangga terdekat dari beberapa query points\n",
        "hasil clustering\n",
        "- Tampilkan output berupa:\n",
        "  - Index query point\n",
        "  - Daftar tetangga terdekat yang ditemukan\n",
        "  - Nilai jarak kemiripan\n"
      ],
      "metadata": {
        "id": "6WcL_Qwh3W_R"
      }
    },
    {
      "cell_type": "markdown",
      "source": [
        "Tugas 2 — Credit Card Dataset\n",
        "Untuk mahasiswa dengan nomor absen 2, 5, 8, dst.\n",
        "- Dataset: Credit Card Dataset for Clustering\n",
        "- Deskripsi: Dataset ini berisi data perilaku pengguna kartu kredit. Gunakan untuk\n",
        "menemukan kelompok pelanggan berdasarkan pola penggunaan.\n",
        "- Langkah tambahan:\n",
        "  - Tangani missing values dan normalisasi fitur numerik.\n",
        "  - Buat fitur baru seperti rasio antara BALANCE dan PURCHASES."
      ],
      "metadata": {
        "id": "0-Boo0gO3dYU"
      }
    },
    {
      "cell_type": "code",
      "execution_count": null,
      "metadata": {
        "id": "sJfGuTPP0Q_Q"
      },
      "outputs": [],
      "source": [
        "import kagglehub\n",
        "\n",
        "# Download latest version\n",
        "path = kagglehub.dataset_download(\"arjunbhasin2013/ccdata\")\n",
        "\n",
        "print(\"Path to dataset files:\", path)"
      ]
    }
  ]
}